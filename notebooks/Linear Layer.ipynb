{
 "cells": [
  {
   "cell_type": "code",
   "execution_count": 1,
   "metadata": {},
   "outputs": [],
   "source": [
    "import jax\n",
    "import jax.numpy as jnp\n",
    "import jax.random as rnd\n",
    "import treeo as to\n",
    "from abc import abstractmethod"
   ]
  },
  {
   "cell_type": "code",
   "execution_count": 2,
   "metadata": {},
   "outputs": [],
   "source": [
    "class Module(to.Tree):\n",
    "    @abstractmethod\n",
    "    def __init__(self, *args, **kwargs):\n",
    "        super(self, to.Tree).__init__()\n",
    "        pass\n",
    "\n",
    "    @abstractmethod\n",
    "    def __call__(self, *args, **kwargs):\n",
    "        pass"
   ]
  },
  {
   "cell_type": "code",
   "execution_count": 27,
   "metadata": {},
   "outputs": [],
   "source": [
    "class Linear(Module):\n",
    "    w: jnp.ndarray = to.node()\n",
    "    b: jnp.ndarray = to.node()\n",
    "\n",
    "\n",
    "    def __init__(self, key, in_size, out_size):\n",
    "        super(Module, self).__init__()\n",
    "        w_key, b_key = rnd.split(key, 2)\n",
    "        self.w = rnd.normal(w_key, shape=(in_size, out_size))\n",
    "        self.b = jnp.zeros((out_size,))\n",
    "\n",
    "    def __call__(self, x, use_bias=True):\n",
    "        return x @ self.w + self.b"
   ]
  },
  {
   "cell_type": "code",
   "execution_count": 26,
   "metadata": {},
   "outputs": [
    {
     "data": {
      "text/plain": [
       "(2, 20)"
      ]
     },
     "execution_count": 26,
     "metadata": {},
     "output_type": "execute_result"
    }
   ],
   "source": []
  }
 ],
 "metadata": {
  "kernelspec": {
   "display_name": "Python 3.10.5 ('ashjx')",
   "language": "python",
   "name": "python3"
  },
  "language_info": {
   "codemirror_mode": {
    "name": "ipython",
    "version": 3
   },
   "file_extension": ".py",
   "mimetype": "text/x-python",
   "name": "python",
   "nbconvert_exporter": "python",
   "pygments_lexer": "ipython3",
   "version": "3.10.5"
  },
  "orig_nbformat": 4,
  "vscode": {
   "interpreter": {
    "hash": "55f561dd59a3a6600188aa9a965bb3ce48cc4ed35f68689f695b65f9a687f2af"
   }
  }
 },
 "nbformat": 4,
 "nbformat_minor": 2
}
